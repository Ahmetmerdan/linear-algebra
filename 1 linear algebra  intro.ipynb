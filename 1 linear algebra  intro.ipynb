{
 "cells": [
  {
   "cell_type": "code",
   "execution_count": 6,
   "id": "5b6c310c",
   "metadata": {},
   "outputs": [],
   "source": [
    "import numpy as np "
   ]
  },
  {
   "cell_type": "markdown",
   "id": "8a63eba5",
   "metadata": {},
   "source": [
    "# matrixes and determinants "
   ]
  },
  {
   "cell_type": "code",
   "execution_count": null,
   "id": "48fd81a5",
   "metadata": {},
   "outputs": [],
   "source": [
    "#In mathematics, a matrix (pl.: matrices) is a rectangular array or table of numbers, symbols, or expressions, arranged in rows and columns, which is used to represent a mathematical object or property of such an object."
   ]
  },
  {
   "cell_type": "code",
   "execution_count": null,
   "id": "db64cefe",
   "metadata": {},
   "outputs": [],
   "source": [
    "#rows horizontal/columns vertical \n",
    "#order/shape/dimension    3 rows and 3 columns 3 by 3 or 3*3 matrices  (3,3) whereas 3 rows and 3 columns   "
   ]
  },
  {
   "cell_type": "code",
   "execution_count": null,
   "id": "e6f904a3",
   "metadata": {},
   "outputs": [],
   "source": [
    "#if the matrix has equal number of rows and columns it is called square matrices  3rows and 3 columns"
   ]
  },
  {
   "cell_type": "code",
   "execution_count": null,
   "id": "b90e3e56",
   "metadata": {},
   "outputs": [],
   "source": [
    "#if order/ shape 4 by 5 or (4,5) 4 by 5 4*5\n",
    "#size=4*5=20 number of elements in matrix and isn't square matrix "
   ]
  },
  {
   "cell_type": "code",
   "execution_count": null,
   "id": "3affd6ab",
   "metadata": {},
   "outputs": [],
   "source": [
    "#A=   order/shape is 3 by 1 (3,1)\n",
    "#size=3*1=3 elements, we call it column vector /column Matrix  "
   ]
  },
  {
   "cell_type": "code",
   "execution_count": null,
   "id": "f01db351",
   "metadata": {},
   "outputs": [],
   "source": [
    "#A= order /shape is 1 by 5  (1,5)=(5)\n",
    "#size=1*5=5  we call this called  a raw vector "
   ]
  }
 ],
 "metadata": {
  "kernelspec": {
   "display_name": "Python 3",
   "language": "python",
   "name": "python3"
  },
  "language_info": {
   "codemirror_mode": {
    "name": "ipython",
    "version": 3
   },
   "file_extension": ".py",
   "mimetype": "text/x-python",
   "name": "python",
   "nbconvert_exporter": "python",
   "pygments_lexer": "ipython3",
   "version": "3.8.8"
  }
 },
 "nbformat": 4,
 "nbformat_minor": 5
}
