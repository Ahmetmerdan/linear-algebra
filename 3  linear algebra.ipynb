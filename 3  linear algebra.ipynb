{
 "cells": [
  {
   "cell_type": "code",
   "execution_count": 1,
   "id": "1423db6b",
   "metadata": {},
   "outputs": [],
   "source": [
    "#representation of matrices\n",
    "#A=m*n   (m=n square matrix) , (m stands for rows) and (n for columns )\n",
    "# for matrix we use capital letters A , B and for elements we use lowercase letters b22  "
   ]
  },
  {
   "cell_type": "markdown",
   "id": "f29bf857",
   "metadata": {},
   "source": [
    "###Types of matrices "
   ]
  },
  {
   "cell_type": "code",
   "execution_count": null,
   "id": "f7b87190",
   "metadata": {},
   "outputs": [],
   "source": [
    "#diagonal matrix from top left to buttomn right ,the set of terms aii for which the row and column indices are the same, so from the upper left element to the lower right\n",
    "\n",
    "# if the matrices are elements are similar a1.1=4 a1.2=0 /a2.1=0 and a2.2=4 we call it in scalar matrix are also square matrix "
   ]
  },
  {
   "cell_type": "code",
   "execution_count": null,
   "id": "cdb47614",
   "metadata": {},
   "outputs": [],
   "source": [
    "# identity /unit martrix An identity matrix of 3×3 is a matrix with 1's in the main diagonal and zeros everywhere. The identity matrix of order 3×3 is given by: [1 0 0 0 1 0 0 0 1].\n",
    "\n",
    "\n",
    "#triangular matrix A square matrix whose all elements above the main diagonal are zero is called a lower triangular matrix.\n",
    "# A square matrix whose all elements below the main diagonal are zero is called an upper triangular matrix.\n",
    "\n",
    "\n",
    "\n",
    "\n",
    "#symmetric matrix  a square matrix A = [aij] is symmetric if and only if aij= aji for all values of i and j, that is, if a12 = a21, a23 = a32"
   ]
  },
  {
   "cell_type": "code",
   "execution_count": null,
   "id": "34de9c12",
   "metadata": {},
   "outputs": [],
   "source": [
    "### skew symmetric matrix square matrix that is equal to the negative of its transpose matrix. For any square matrix, A, the transpose matrix is given as AT. A skew-symmetric or antisymmetric matrix A can therefore be represented as, A = -AT. A skew-symmetric matrix finds application in various fields, such as, in machine learning and in statistical analysis.\n",
    "#A garshy diogonaly +6 yada -6 bolsa muna skew symmetric matriks diyilyar "
   ]
  },
  {
   "cell_type": "code",
   "execution_count": null,
   "id": "677c6a41",
   "metadata": {},
   "outputs": [],
   "source": [
    "#dense and sparse matrices \n",
    "# if  matrix contain more zero values or elements so we call it sparse matrix (0,0,1,0)\n",
    "#Dense matrix is matrix which has more non zero values "
   ]
  },
  {
   "cell_type": "code",
   "execution_count": null,
   "id": "50719b0f",
   "metadata": {},
   "outputs": [],
   "source": [
    "#sparsity= number of zero values devided number of items in array "
   ]
  },
  {
   "cell_type": "code",
   "execution_count": null,
   "id": "7fd1d27e",
   "metadata": {},
   "outputs": [],
   "source": [
    "# A square matrix whose determinant is zero is an example of a singular matrix. This could be a 2x2 matrix with entries a, b, c, d, where a=2, b = 8, c=1, and d=4.\n",
    "\n",
    "\n",
    "\n",
    "#determant matritsan diaganalyn, negatiw dioganylyndan ayrylanana dendir"
   ]
  }
 ],
 "metadata": {
  "kernelspec": {
   "display_name": "Python 3",
   "language": "python",
   "name": "python3"
  },
  "language_info": {
   "codemirror_mode": {
    "name": "ipython",
    "version": 3
   },
   "file_extension": ".py",
   "mimetype": "text/x-python",
   "name": "python",
   "nbconvert_exporter": "python",
   "pygments_lexer": "ipython3",
   "version": "3.8.8"
  }
 },
 "nbformat": 4,
 "nbformat_minor": 5
}
